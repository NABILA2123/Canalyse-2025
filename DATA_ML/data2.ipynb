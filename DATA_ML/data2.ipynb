{
 "cells": [
  {
   "cell_type": "code",
   "execution_count": 1,
   "metadata": {},
   "outputs": [],
   "source": [
    "import pandas as pd\n",
    "import numpy as np\n",
    "\n",
    "# Exemple de données de feedbacks\n",
    "feedbacks = [\n",
    "    \"La coupe du monde était incroyable, j'ai adoré chaque moment !\",\n",
    "    \"Je suis tellement déçu par l'organisation de cet événement.\",\n",
    "    \"C'était un plaisir d'assister à la coupe du monde, une expérience inoubliable !\",\n",
    "    \"Je suis furieux contre les organisateurs, rien n'a été planifié correctement !\",\n",
    "    \"Je me sens anxieux à propos de la sécurité lors de cet événement.\",\n",
    "    \"Les matches étaient passionnants, j'ai ressenti tant de joie !\",\n",
    "    \"Je suis triste de devoir quitter le pays après cette expérience incroyable.\",\n",
    "    \"C'était génial de rencontrer des gens du monde entier pendant la coupe du monde !\",\n",
    "    \"Je suis en colère contre les supporters adverses qui ont causé des problèmes.\",\n",
    "    \"J'ai eu peur pendant les émeutes qui ont éclaté près du stade.\"\n",
    "]\n",
    "\n",
    "# Génération aléatoire des feedbacks pour compléter 1000 rows\n",
    "while len(feedbacks) < 1000:\n",
    "    feedbacks.append(np.random.choice(feedbacks))\n",
    "\n",
    "# Classification aléatoire des émotions\n",
    "emotions = np.random.choice(['joy', 'sadness', 'love', 'anger', 'fear'], size=1000)\n",
    "\n",
    "# Création du dataframe\n",
    "data = {\n",
    "    'Texte': feedbacks,\n",
    "    'Émotion': emotions\n",
    "}\n",
    "\n",
    "df = pd.DataFrame(data)"
   ]
  }
 ],
 "metadata": {
  "kernelspec": {
   "display_name": "Python 3",
   "language": "python",
   "name": "python3"
  },
  "language_info": {
   "codemirror_mode": {
    "name": "ipython",
    "version": 3
   },
   "file_extension": ".py",
   "mimetype": "text/x-python",
   "name": "python",
   "nbconvert_exporter": "python",
   "pygments_lexer": "ipython3",
   "version": "3.12.1"
  }
 },
 "nbformat": 4,
 "nbformat_minor": 2
}
